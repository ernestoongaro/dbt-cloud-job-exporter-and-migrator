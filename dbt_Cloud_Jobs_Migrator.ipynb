{
  "nbformat": 4,
  "nbformat_minor": 0,
  "metadata": {
    "colab": {
      "name": "dbt Cloud Jobs Migrator.ipynb",
      "provenance": [],
      "collapsed_sections": [],
      "authorship_tag": "ABX9TyN/vM3cqGQiAH4a1e0SzpYO",
      "include_colab_link": true
    },
    "kernelspec": {
      "name": "python3",
      "display_name": "Python 3"
    },
    "language_info": {
      "name": "python"
    }
  },
  "cells": [
    {
      "cell_type": "markdown",
      "metadata": {
        "id": "view-in-github",
        "colab_type": "text"
      },
      "source": [
        "<a href=\"https://colab.research.google.com/github/ernestoongaro/dbt-cloud-job-exporter-and-migrator/blob/main/dbt_Cloud_Jobs_Migrator.ipynb\" target=\"_parent\"><img src=\"https://colab.research.google.com/assets/colab-badge.svg\" alt=\"Open In Colab\"/></a>"
      ]
    },
    {
      "cell_type": "markdown",
      "source": [
        "## What is this for?\n",
        "There are times where we need to move job definitions from:\n",
        "* one dbt Cloud account to another\n",
        "* one dbt Cloud project to another\n",
        "* a Multi-tenant dbt Cloud account to a single-tenant one or vice versa\n",
        "\n",
        "dbt Cloud does not have built-in import/export functionality through the UI, but it's possible to do through the API, so we do it here, via the API!"
      ],
      "metadata": {
        "id": "H6h3JOPHEW07"
      }
    },
    {
      "cell_type": "code",
      "execution_count": null,
      "metadata": {
        "id": "K4eQ3UsyDxF9"
      },
      "outputs": [],
      "source": [
        "!apt-get -qq update && apt-get -qq install python3.8 python3-pip jq\n",
        "!python3.8 -m pip install git+https://github.com/data-mie/dbt-cloud-cli@main\n",
        "from getpass import getpass"
      ]
    },
    {
      "cell_type": "code",
      "source": [
        " \n",
        "#Source dbt Cloud Project\n",
        "import os\n",
        "os.environ[\"DBT_CLOUD_API_TOKEN\"] = getpass('API TOKEN:') #don't edit this - enter interactively\n",
        "os.environ[\"DBT_CLOUD_ACCOUNT_ID\"] = '4238'\n",
        "os.environ[\"DBT_CLOUD_PROJECT_ID\"] = '31070'\n",
        "os.environ[\"DBT_CLOUD_HOST\"] = 'cloud.getdbt.com'\n",
        "os.environ[\"IMPORT_FILE_PATH\"] = '/content/gdrive/My Drive/dbt_cloud_job_exports/' + os.environ[\"DBT_CLOUD_PROJECT_ID\"]\n"
      ],
      "metadata": {
        "colab": {
          "base_uri": "https://localhost:8080/"
        },
        "id": "YAQnAlz3NsRJ",
        "outputId": "a4debd02-6d39-4489-96fc-712514c8a7fa"
      },
      "execution_count": 45,
      "outputs": [
        {
          "name": "stdout",
          "output_type": "stream",
          "text": [
            "API TOKEN:··········\n"
          ]
        }
      ]
    },
    {
      "cell_type": "code",
      "source": [
        "%%bash \n",
        " \n",
        "job_list=(`dbt-cloud job list --project-id $DBT_CLOUD_PROJECT_ID | jq '.data[].id'`)\n",
        "echo \"The following jobs will be migrated:\"\n",
        "for job in ${job_list[@]}; do\n",
        "  echo $job\n",
        "done"
      ],
      "metadata": {
        "colab": {
          "base_uri": "https://localhost:8080/"
        },
        "id": "LwRWXAZ1GXdi",
        "outputId": "275ba60d-11fc-4474-a7cd-55b492259747"
      },
      "execution_count": 46,
      "outputs": [
        {
          "output_type": "stream",
          "name": "stdout",
          "text": [
            "The following jobs will be migrated:\n",
            "25179\n",
            "25185\n",
            "37028\n"
          ]
        }
      ]
    },
    {
      "cell_type": "code",
      "source": [
        "from google.colab import drive\n",
        "drive.mount('/content/gdrive', force_remount=True)\n",
        "!mkdir -p \"$IMPORT_FILE_PATH\""
      ],
      "metadata": {
        "colab": {
          "base_uri": "https://localhost:8080/"
        },
        "id": "epH9IA1M0HZ1",
        "outputId": "4b7c9bdc-99e6-4ec4-ecbf-29e9f1c2ec71"
      },
      "execution_count": 64,
      "outputs": [
        {
          "output_type": "stream",
          "name": "stdout",
          "text": [
            "Mounted at /content/gdrive\n"
          ]
        }
      ]
    },
    {
      "cell_type": "markdown",
      "source": [
        "Export the jobs to file!"
      ],
      "metadata": {
        "id": "f3uvzp9T3Io8"
      }
    },
    {
      "cell_type": "code",
      "source": [
        "%%bash \n",
        "job_list=(`dbt-cloud job list --project-id $DBT_CLOUD_PROJECT_ID | jq '.data[].id'`)\n",
        "for job in ${job_list[@]}; do\n",
        "  dbt-cloud job export --job-id $job > \"$IMPORT_FILE_PATH/${job}.json\"\n",
        "done"
      ],
      "metadata": {
        "id": "g68IiiothP-r",
        "colab": {
          "base_uri": "https://localhost:8080/"
        },
        "outputId": "639d0d22-6fa4-45e9-b333-1d285988706a"
      },
      "execution_count": 68,
      "outputs": [
        {
          "output_type": "stream",
          "name": "stdout",
          "text": [
            "/content/gdrive/My Drive/dbt_cloud_job_exports/31070/25179.json\n",
            "/content/gdrive/My Drive/dbt_cloud_job_exports/31070/25185.json\n",
            "/content/gdrive/My Drive/dbt_cloud_job_exports/31070/37028.json\n"
          ]
        }
      ]
    },
    {
      "cell_type": "code",
      "source": [
        " \n",
        "#Destination dbt Cloud Project\n",
        "import os\n",
        "os.environ[\"DEST_DBT_CLOUD_API_TOKEN\"] = getpass('API TOKEN:') #don't edit this - enter interactively\n",
        "os.environ[\"DEST_DBT_CLOUD_ACCOUNT_ID\"] = '25898'\n",
        "os.environ[\"DEST_DBT_CLOUD_PROJECT_ID\"] = '69891'\n",
        "os.environ[\"DEST_DBT_CLOUD_ENVIRONMENT_ID\"] = '66688'\n",
        "os.environ[\"DEST_DBT_CLOUD_HOST\"] = 'cloud.getdbt.com'"
      ],
      "metadata": {
        "colab": {
          "base_uri": "https://localhost:8080/"
        },
        "outputId": "a704ac8b-29d9-4f6e-b85a-a08cda7d3945",
        "id": "gxL2o-6u34xt"
      },
      "execution_count": 86,
      "outputs": [
        {
          "name": "stdout",
          "output_type": "stream",
          "text": [
            "API TOKEN:··········\n"
          ]
        }
      ]
    },
    {
      "cell_type": "code",
      "source": [
        "%%bash \n",
        "job_list=(`ls \"$IMPORT_FILE_PATH\"`)\n",
        "echo \"The following jobs will be imported:\"\n",
        "for job in ${job_list[@]}; do\n",
        "  echo $job\n",
        "done"
      ],
      "metadata": {
        "colab": {
          "base_uri": "https://localhost:8080/"
        },
        "id": "L6cTOPB74p4M",
        "outputId": "faf1c425-0437-4d14-9153-0c9148bbeda3"
      },
      "execution_count": 87,
      "outputs": [
        {
          "output_type": "stream",
          "name": "stdout",
          "text": [
            "The following jobs will be imported:\n",
            "25179.json\n",
            "25185.json\n",
            "37028.json\n"
          ]
        }
      ]
    },
    {
      "cell_type": "markdown",
      "source": [
        "Now let's import, 🔔 careful, this will create new jobs for every time it's run!"
      ],
      "metadata": {
        "id": "oKXeCkNJDZbP"
      }
    },
    {
      "cell_type": "code",
      "source": [
        "%%bash \n",
        "job_list=(`ls \"$IMPORT_FILE_PATH\"`)\n",
        "for job in ${job_list[@]}; do\n",
        "  cat \"$IMPORT_FILE_PATH\"/${job} | jq '.environment_id = env.DEST_DBT_CLOUD_ENVIRONMENT_ID | .account_id = env.DEST_DBT_CLOUD_ACCOUNT_ID | .project_id = env.DEST_DBT_CLOUD_PROJECT_ID' \\\n",
        "   | dbt-cloud job import --dbt-cloud-host $DEST_DBT_CLOUD_HOST --api-token $DEST_DBT_CLOUD_API_TOKEN --account-id $DEST_DBT_CLOUD_ACCOUNT_ID | jq '\"Job ID: \" + (.data.id | tostring) + \" - exited with code: \" + (.status.code | tostring)'\n",
        "done"
      ],
      "metadata": {
        "colab": {
          "base_uri": "https://localhost:8080/"
        },
        "id": "ELF9Cl8Y6bsH",
        "outputId": "b29ba4e8-3f85-461c-f958-6b1c178fc4b4"
      },
      "execution_count": 111,
      "outputs": [
        {
          "output_type": "stream",
          "name": "stdout",
          "text": [
            "\"Job ID: 60605 - exited with code: 201\"\n",
            "\"Job ID: 60606 - exited with code: 201\"\n",
            "\"Job ID: 60607 - exited with code: 201\"\n"
          ]
        }
      ]
    }
  ]
}